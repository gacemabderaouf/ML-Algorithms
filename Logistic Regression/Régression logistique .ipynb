{
 "cells": [
  {
   "cell_type": "markdown",
   "metadata": {},
   "source": [
    "# TP03 : Régression logistique\n",
    "\n",
    "## Régression linéaire polynomiale \n",
    "Dans cette partie, comme expliqué en cours nous voyons un exemple simple d'un modèle linéaire sous forme d'un polynome multiple. \n",
    "\n"
   ]
  },
  {
   "cell_type": "code",
   "execution_count": 1,
   "metadata": {
    "collapsed": true
   },
   "outputs": [],
   "source": [
    "from sklearn.linear_model import LinearRegression  \n",
    "from sklearn.preprocessing import PolynomialFeatures \n",
    "from sklearn.metrics import mean_squared_error, r2_score\n",
    "\n",
    "import matplotlib.pyplot as plt\n",
    "import numpy as np\n",
    "import random"
   ]
  },
  {
   "cell_type": "code",
   "execution_count": 2,
   "metadata": {
    "collapsed": false
   },
   "outputs": [
    {
     "data": {
      "text/plain": [
       "<matplotlib.collections.PathCollection at 0x7f013cdee8d0>"
      ]
     },
     "execution_count": 2,
     "metadata": {},
     "output_type": "execute_result"
    }
   ],
   "source": [
    "X = [i for i in range(10)]\n",
    "Y = [random.gauss(x,0.75) for x in X]\n",
    "\n",
    "X = np.asarray(X)\n",
    "Y = np.asarray(Y)\n",
    "\n",
    "X = X[:,np.newaxis]\n",
    "Y = Y[:,np.newaxis]\n",
    "\n",
    "plt.scatter(X,Y)"
   ]
  },
  {
   "cell_type": "code",
   "execution_count": 3,
   "metadata": {
    "collapsed": false
   },
   "outputs": [
    {
     "data": {
      "text/plain": [
       "LinearRegression(copy_X=True, fit_intercept=True, n_jobs=1, normalize=False)"
      ]
     },
     "execution_count": 3,
     "metadata": {},
     "output_type": "execute_result"
    }
   ],
   "source": [
    "degree = 4 #degrès du polynome résultant. \n",
    "\n",
    "polynomial_features = PolynomialFeatures(degree = degree)\n",
    "X_TRANSF = polynomial_features.fit_transform(X)\n",
    "model = LinearRegression()\n",
    "model.fit(X_TRANSF, Y)"
   ]
  },
  {
   "cell_type": "code",
   "execution_count": 4,
   "metadata": {
    "collapsed": false
   },
   "outputs": [
    {
     "name": "stdout",
     "output_type": "stream",
     "text": [
      "RMSE:  0.407352230438\n",
      "R2:  0.981183592746\n"
     ]
    }
   ],
   "source": [
    "Y_NEW = model.predict(X_TRANSF)\n",
    "\n",
    "rmse = np.sqrt(mean_squared_error(Y,Y_NEW))\n",
    "r2 = r2_score(Y,Y_NEW)\n",
    "\n",
    "print('RMSE: ', rmse)\n",
    "print('R2: ', r2)"
   ]
  },
  {
   "cell_type": "code",
   "execution_count": 5,
   "metadata": {
    "collapsed": false
   },
   "outputs": [
    {
     "data": {
      "image/png": "[encoded data removed]",
      "text/plain": [
       "<matplotlib.figure.Figure at 0x7f014043fac8>"
      ]
     },
     "metadata": {},
     "output_type": "display_data"
    }
   ],
   "source": [
    "x_new_min = 0.0\n",
    "x_new_max = 10.0\n",
    "\n",
    "X_NEW = np.linspace(x_new_min, x_new_max, 100)\n",
    "X_NEW = X_NEW[:,np.newaxis]\n",
    "\n",
    "X_NEW_TRANSF = polynomial_features.fit_transform(X_NEW)\n",
    "\n",
    "Y_NEW = model.predict(X_NEW_TRANSF)\n",
    "\n",
    "plt.plot(X_NEW, Y_NEW, color='coral', linewidth=3)\n",
    "\n",
    "plt.grid()\n",
    "plt.xlim(x_new_min,x_new_max)\n",
    "plt.ylim(0,10)\n",
    "\n",
    "title = 'Degree = {}; RMSE = {}; R2 = {}'.format(degree, round(rmse,2), round(r2,2))\n",
    "\n",
    "plt.title(\"Polynomial Linear Regression using scikit-learn and python 3 \\n \" + title,\n",
    "          fontsize=10)\n",
    "plt.xlabel('x')\n",
    "plt.ylabel('y')\n",
    "plt.scatter(X,Y)\n",
    "plt.show()"
   ]
  },
  {
   "cell_type": "markdown",
   "metadata": {},
   "source": [
    "## Régression logistique \n",
    "\n",
    "La régression logistique est généralement utilisée à des fins de classification. Contrairement à la régression linéaire, la variable à prédire ne peut prendre qu'un nombre limité de valeurs (valeurs discrètes). \n",
    "\n",
    "Lorsque le nombre de résultats possibles est seulement deux, on parle de régression logistique binaire.\n",
    "\n",
    "![](img/logistic.JPG) \n",
    "\n",
    "Dans la figure ci-dessus on comprend que la régression logistique est composée d'une régression linéaire suivie de l'application d'une certaine fonction. Cette fonction est la fonction sigmoid dont voici le graphe : \n",
    "\n",
    "![](img/sigmoid.JPG) \n"
   ]
  },
  {
   "cell_type": "markdown",
   "metadata": {},
   "source": [
    "## 1 - Préparation des données : \n",
    "Les données consistent en un ensemble de notes des etudiants et la valeur à prédire est si l'etudiant est admis(1) ou pas(0) "
   ]
  },
  {
   "cell_type": "code",
   "execution_count": 6,
   "metadata": {
    "collapsed": true
   },
   "outputs": [],
   "source": [
    "import numpy as np\n",
    "import matplotlib.pyplot as plt\n",
    "import pandas as pd"
   ]
  },
  {
   "cell_type": "code",
   "execution_count": 7,
   "metadata": {
    "collapsed": true
   },
   "outputs": [],
   "source": [
    "header = [\"Note1\", \"Note2\", \"Admis\"]\n",
    "notes = pd.read_csv('datasets/marks.txt', names=header)"
   ]
  },
  {
   "cell_type": "code",
   "execution_count": 8,
   "metadata": {
    "collapsed": true
   },
   "outputs": [],
   "source": [
    "X = notes.iloc[:, :-1].values\n",
    "y = notes.iloc[:, -1].values"
   ]
  },
  {
   "cell_type": "code",
   "execution_count": 9,
   "metadata": {
    "collapsed": false
   },
   "outputs": [
    {
     "data": {
      "image/png": "[encoded data removed]",
      "text/plain": [
       "<matplotlib.figure.Figure at 0x7f0135e4ae10>"
      ]
     },
     "metadata": {},
     "output_type": "display_data"
    }
   ],
   "source": [
    "admis = notes.loc[y == 1]\n",
    "non_admis = notes.loc[y == 0]\n",
    "\n",
    "plt.scatter(admis.iloc[:, 0], admis.iloc[:, 1], s=10, label='Admis')\n",
    "plt.scatter(non_admis.iloc[:, 0], non_admis.iloc[:, 1], s=10, label='Non Admis')\n",
    "plt.legend()\n",
    "plt.show()"
   ]
  },
  {
   "cell_type": "markdown",
   "metadata": {},
   "source": [
    "## 2- Régression logistique \n",
    "\n",
    "**Expressions mathématiques :  **:\n",
    "<img src=\"img/Math.PNG\" alt=\"Drawing\" style=\"width: 300px;\"/>\n",
    "<img src=\"img/cost.PNG\" alt=\"Drawing\" style=\"width: 300px;\"/>\n",
    "<img src=\"img/total.PNG\" alt=\"Drawing\" style=\"width: 300px;\"/>\n",
    "<img src=\"img/deriv.PNG\" alt=\"Drawing\" style=\"width: 300px;\"/>"
   ]
  },
  {
   "cell_type": "code",
   "execution_count": 10,
   "metadata": {
    "collapsed": false
   },
   "outputs": [
    {
     "data": {
      "text/plain": [
       "0.5"
      ]
     },
     "execution_count": 10,
     "metadata": {},
     "output_type": "execute_result"
    }
   ],
   "source": [
    "# TODO : Calculer le sigmoid de la valeur x \n",
    "def sigmoid(x):\n",
    "    return 1 / (1 + np.exp(- x))\n",
    "\n",
    "def h(theta, x):\n",
    "    return sigmoid(np.dot(x, theta))\n",
    "# Test : \n",
    "sigmoid(0)"
   ]
  },
  {
   "cell_type": "code",
   "execution_count": 11,
   "metadata": {
    "collapsed": true
   },
   "outputs": [],
   "source": [
    "# TODO : La fonction de coût utilisée dans la régression logistique \n",
    "def J(x,y,theta): \n",
    "    a = y * np.log(h(theta, x)) + (np.ones([y.shape[0],1]) - y) * np.log(np.ones([y.shape[0],1]) - h(theta, x))\n",
    "    return - a.mean() "
   ]
  },
  {
   "cell_type": "code",
   "execution_count": 12,
   "metadata": {
    "collapsed": false
   },
   "outputs": [
    {
     "name": "stdout",
     "output_type": "stream",
     "text": [
      "[ 0.67292626  1.7461513   1.6294713 ]\n"
     ]
    }
   ],
   "source": [
    "# TODO : Programmer la fonction d'entrainement du modèle \n",
    "def train(x,y, theta, learning_rate = 0.01, max_iter = 2000):\n",
    "    conv = False\n",
    "    nb_iter = 0\n",
    "    costs = []\n",
    "    costs.append(J(x, y, theta))\n",
    "    \n",
    "    while(not conv and nb_iter < max_iter):\n",
    "        nb_iter += 1\n",
    "        old_theta = np.copy(theta)\n",
    "        derivative = np.dot(h(theta, x) - y, x)\n",
    "        derivative *= learning_rate / y.shape[0]\n",
    "        theta -= derivative\n",
    "        cost = J(x, y, theta)\n",
    "        if(cost > costs[-1]):\n",
    "            conv = True\n",
    "            theta = old_theta\n",
    "        else :\n",
    "            costs.append(cost)\n",
    "            \n",
    "    print(theta)\n",
    "            \n",
    "    return theta \n",
    "\n",
    "# TODO : fonction de normalisation des données X \n",
    "def normalisation(X):\n",
    "    X = (X - X.mean()) / X.std()\n",
    "    ones = np.ones([X.shape[0],1])\n",
    "    X = np.concatenate((ones,X),axis=1)\n",
    "    \n",
    "    return X  \n",
    "\n",
    "# TODO : Entrainer le modèle en choisissant les bons hyperparamètres. \n",
    "x = normalisation(X)\n",
    "theta = [0 for i in range(x.shape[1])]\n",
    "theta = train(x, y, theta)"
   ]
  },
  {
   "cell_type": "code",
   "execution_count": 13,
   "metadata": {
    "collapsed": false
   },
   "outputs": [
    {
     "data": {
      "image/png": "[encoded data removed]",
      "text/plain": [
       "<matplotlib.figure.Figure at 0x7f01360c2f28>"
      ]
     },
     "metadata": {},
     "output_type": "display_data"
    }
   ],
   "source": [
    "x_values = np.array([np.min(x[:,1]),np.max(x[:,1])])\n",
    "y_values = (- (theta[0] + np.dot(theta[1], x_values[0])) / theta[2],  - (theta[0] + np.dot(theta[1], x_values[1])) / theta[2])\n",
    "\n",
    "plt.plot(x_values, y_values, label='ligne de décision')\n",
    "plt.xlabel('Note 1 ')\n",
    "plt.ylabel('Note 2 ')\n",
    "\n",
    "admis = (admis - X.mean()) / X.std() \n",
    "non_admis = (non_admis - X.mean()) / X.std()\n",
    "\n",
    "plt.scatter(admis.iloc[:, 0], admis.iloc[:, 1], s=10, label='Admis')\n",
    "plt.scatter(non_admis.iloc[:, 0], non_admis.iloc[:, 1], s=10, label='Non Admis')\n",
    "plt.legend()\n",
    "plt.show()"
   ]
  },
  {
   "cell_type": "code",
   "execution_count": 14,
   "metadata": {
    "collapsed": true
   },
   "outputs": [],
   "source": [
    "# TODO : donner la fonction de prédiction qui retourne la probabilité que X est dans chaque classe \n",
    "def predict(x, mean, std, theta):\n",
    "    x = (x - mean) / std\n",
    "    proba = h(theta, x)\n",
    "    return [1 - proba, proba] \n",
    "    "
   ]
  },
  {
   "cell_type": "markdown",
   "metadata": {},
   "source": [
    "## 3- Implementation sous sklearn : "
   ]
  },
  {
   "cell_type": "code",
   "execution_count": 15,
   "metadata": {
    "collapsed": false
   },
   "outputs": [
    {
     "name": "stdout",
     "output_type": "stream",
     "text": [
      "0.885714285714\n"
     ]
    }
   ],
   "source": [
    "from sklearn.linear_model import LogisticRegression\n",
    "from sklearn.metrics import accuracy_score \n",
    "from sklearn.model_selection import train_test_split\n",
    "\n",
    "# TODO : Diviser les données en données d'entrainement et données de tests (Fait dans le TP02 )\n",
    "## Décider de la taille des données pour chaque set\n",
    "x_train, x_test, y_train, y_test = train_test_split(x, y, test_size=0.35, random_state=0)\n",
    "\n",
    "# Créer le modèle \n",
    "model = LogisticRegression()\n",
    "\n",
    "# Entraîner le modèle \n",
    "model.fit(x_train, y_train)\n",
    "\n",
    "# Prédire les classes \n",
    "predicted_classes = model.predict(x_test)\n",
    "\n",
    "# Calculer le score du modèle \n",
    "accuracy = accuracy_score(y_test,predicted_classes)\n",
    "print(accuracy)"
   ]
  }
 ],
 "metadata": {
  "anaconda-cloud": {},
  "kernelspec": {
   "display_name": "Python [conda env:mypython3]",
   "language": "python",
   "name": "conda-env-mypython3-py"
  },
  "language_info": {
   "codemirror_mode": {
    "name": "ipython",
    "version": 3
   },
   "file_extension": ".py",
   "mimetype": "text/x-python",
   "name": "python",
   "nbconvert_exporter": "python",
   "pygments_lexer": "ipython3",
   "version": "3.6.1"
  }
 },
 "nbformat": 4,
 "nbformat_minor": 2
}
